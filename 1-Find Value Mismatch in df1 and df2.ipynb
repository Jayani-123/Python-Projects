{
 "cells": [
  {
   "cell_type": "code",
   "execution_count": 1,
   "id": "e237e437",
   "metadata": {},
   "outputs": [],
   "source": [
    "import pandas as pd"
   ]
  },
  {
   "cell_type": "code",
   "execution_count": 2,
   "id": "2d6443d3",
   "metadata": {},
   "outputs": [
    {
     "name": "stdout",
     "output_type": "stream",
     "text": [
      "    InvoiceID  sum_value\n",
      "0           1     100.00\n",
      "1           2     300.00\n",
      "2           3     500.00\n",
      "3           4      70.00\n",
      "4           5     140.00\n",
      "5           6      75.00\n",
      "6           7     282.00\n",
      "7           8     210.00\n",
      "8           9     260.00\n",
      "9          10      55.00\n",
      "10         11      21.00\n",
      "11         12       0.00\n",
      "12         13     288.00\n",
      "13         14     183.00\n",
      "14         15     175.00\n",
      "15         16    2523.98\n",
      "16         17     265.00\n",
      "17         18      45.00\n",
      "18         19      90.00\n",
      "19         20     924.00\n",
      "20         21     110.00\n",
      "21         22      18.00\n",
      "22         23     180.00\n",
      "23         24     148.00\n",
      "24         25      38.00\n"
     ]
    }
   ],
   "source": [
    "df1=pd.read_csv('df1.csv')\n",
    "print(df1)\n",
    "#df1= pd.concat([df1,df3])\n"
   ]
  },
  {
   "cell_type": "code",
   "execution_count": 3,
   "id": "c2f48e46",
   "metadata": {},
   "outputs": [
    {
     "name": "stdout",
     "output_type": "stream",
     "text": [
      "    InvoiceID  sum_value\n",
      "0           1     100.00\n",
      "1           2     300.00\n",
      "2           3     500.00\n",
      "3           4      70.00\n",
      "4           5     140.00\n",
      "5           6      75.00\n",
      "6           7     282.00\n",
      "7           8     210.00\n",
      "8           9     260.00\n",
      "9          10      55.00\n",
      "10         11      21.00\n",
      "11         12       0.00\n",
      "12         13     288.00\n",
      "13         14     183.00\n",
      "14         15     175.00\n",
      "15         16    2523.98\n",
      "16         17     265.00\n",
      "17         18      45.00\n",
      "18         19      90.00\n",
      "19         20     924.00\n",
      "20         21     110.00\n",
      "21         22      18.00\n",
      "22         23     180.00\n",
      "23         24     148.00\n",
      "24         25      38.00\n"
     ]
    }
   ],
   "source": [
    "#sorting Values\n",
    "df1=df1.sort_values(\"InvoiceID\")\n",
    "print(df1)"
   ]
  },
  {
   "cell_type": "code",
   "execution_count": 4,
   "id": "c7a09e3a",
   "metadata": {},
   "outputs": [
    {
     "name": "stdout",
     "output_type": "stream",
     "text": [
      "    ID  Total\n",
      "0    1    100\n",
      "1    2    300\n",
      "2    3    500\n",
      "3    4     70\n",
      "4    5    800\n",
      "5    6     75\n",
      "6    7    282\n",
      "7    8    210\n",
      "8    9    260\n",
      "9   10     55\n",
      "10  11     21\n",
      "11  12      0\n",
      "12  13    288\n",
      "13  14    183\n",
      "14  15    100\n",
      "15  16    655\n",
      "16  17     50\n",
      "17  18     45\n",
      "18  19     90\n",
      "19  20    924\n",
      "20  21    110\n",
      "21  22     18\n",
      "22  23    180\n",
      "23  24    541\n",
      "24  25     38\n"
     ]
    }
   ],
   "source": [
    "df2=pd.read_csv('df2.csv')\n",
    "print(df2)\n",
    "\n",
    "\n"
   ]
  },
  {
   "cell_type": "code",
   "execution_count": 5,
   "id": "33e6c555",
   "metadata": {},
   "outputs": [
    {
     "name": "stdout",
     "output_type": "stream",
     "text": [
      "    InvoiceID  sum_value  ID  Total\n",
      "0           1     100.00   1    100\n",
      "1           2     300.00   2    300\n",
      "2           3     500.00   3    500\n",
      "3           4      70.00   4     70\n",
      "4           5     140.00   5    800\n",
      "5           6      75.00   6     75\n",
      "6           7     282.00   7    282\n",
      "7           8     210.00   8    210\n",
      "8           9     260.00   9    260\n",
      "9          10      55.00  10     55\n",
      "10         11      21.00  11     21\n",
      "11         12       0.00  12      0\n",
      "12         13     288.00  13    288\n",
      "13         14     183.00  14    183\n",
      "14         15     175.00  15    100\n",
      "15         16    2523.98  16    655\n",
      "16         17     265.00  17     50\n",
      "17         18      45.00  18     45\n",
      "18         19      90.00  19     90\n",
      "19         20     924.00  20    924\n",
      "20         21     110.00  21    110\n",
      "21         22      18.00  22     18\n",
      "22         23     180.00  23    180\n",
      "23         24     148.00  24    541\n",
      "24         25      38.00  25     38\n"
     ]
    }
   ],
   "source": [
    "#Merged two Dataframes\n",
    "merged_df = pd.merge(df1, df2, left_on='InvoiceID', right_on = 'ID', how='outer')\n",
    "print(merged_df )\n"
   ]
  },
  {
   "cell_type": "code",
   "execution_count": 7,
   "id": "d8e1cb0d",
   "metadata": {},
   "outputs": [
    {
     "name": "stdout",
     "output_type": "stream",
     "text": [
      "    InvoiceID  sum_value  ID  Total  order_diff\n",
      "0           1     100.00   1    100        0.00\n",
      "1           2     300.00   2    300        0.00\n",
      "2           3     500.00   3    500        0.00\n",
      "3           4      70.00   4     70        0.00\n",
      "4           5     140.00   5    800     -660.00\n",
      "5           6      75.00   6     75        0.00\n",
      "6           7     282.00   7    282        0.00\n",
      "7           8     210.00   8    210        0.00\n",
      "8           9     260.00   9    260        0.00\n",
      "9          10      55.00  10     55        0.00\n",
      "10         11      21.00  11     21        0.00\n",
      "11         12       0.00  12      0        0.00\n",
      "12         13     288.00  13    288        0.00\n",
      "13         14     183.00  14    183        0.00\n",
      "14         15     175.00  15    100       75.00\n",
      "15         16    2523.98  16    655     1868.98\n",
      "16         17     265.00  17     50      215.00\n",
      "17         18      45.00  18     45        0.00\n",
      "18         19      90.00  19     90        0.00\n",
      "19         20     924.00  20    924        0.00\n",
      "20         21     110.00  21    110        0.00\n",
      "21         22      18.00  22     18        0.00\n",
      "22         23     180.00  23    180        0.00\n",
      "23         24     148.00  24    541     -393.00\n",
      "24         25      38.00  25     38        0.00\n"
     ]
    }
   ],
   "source": [
    "#Find the difference between sum_value and Subtotal\n",
    "merged_df['order_diff'] = merged_df['sum_value'] - merged_df['Total'] \n",
    "print(merged_df)\n"
   ]
  },
  {
   "cell_type": "code",
   "execution_count": 8,
   "id": "a15fc108",
   "metadata": {},
   "outputs": [
    {
     "name": "stdout",
     "output_type": "stream",
     "text": [
      "    InvoiceID  sum_value  ID  Total  order_diff\n",
      "4           5     140.00   5    800     -660.00\n",
      "14         15     175.00  15    100       75.00\n",
      "15         16    2523.98  16    655     1868.98\n",
      "16         17     265.00  17     50      215.00\n",
      "23         24     148.00  24    541     -393.00\n"
     ]
    }
   ],
   "source": [
    "values_mismatch_df=merged_df.loc[merged_df['order_diff'] !=0  ]\n",
    "print(mismatch_ro_df)\n"
   ]
  },
  {
   "cell_type": "code",
   "execution_count": 9,
   "id": "e866f192",
   "metadata": {},
   "outputs": [],
   "source": [
    "#Writing Mismatch Values to files.\n",
    "values_mismatch_df.to_csv('value_mismatch.csv')"
   ]
  },
  {
   "cell_type": "code",
   "execution_count": null,
   "id": "75eda929",
   "metadata": {},
   "outputs": [],
   "source": []
  },
  {
   "cell_type": "code",
   "execution_count": null,
   "id": "5ac326d6",
   "metadata": {},
   "outputs": [],
   "source": []
  }
 ],
 "metadata": {
  "kernelspec": {
   "display_name": "Python 3 (ipykernel)",
   "language": "python",
   "name": "python3"
  },
  "language_info": {
   "codemirror_mode": {
    "name": "ipython",
    "version": 3
   },
   "file_extension": ".py",
   "mimetype": "text/x-python",
   "name": "python",
   "nbconvert_exporter": "python",
   "pygments_lexer": "ipython3",
   "version": "3.11.5"
  }
 },
 "nbformat": 4,
 "nbformat_minor": 5
}
